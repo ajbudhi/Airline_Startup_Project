{
 "cells": [
  {
   "cell_type": "markdown",
   "metadata": {},
   "source": [
    "# Recommendations for Airplane Startup Plan\n",
    "\n",
    "In this notebook, we are going to explore the accident/incident of Aviation Data to analyze the risk of each plane."
   ]
  },
  {
   "cell_type": "code",
   "execution_count": 2,
   "metadata": {},
   "outputs": [],
   "source": [
    "# Import Packages\n",
    "import pandas as pd\n",
    "import numpy as np\n",
    "import matplotlib.pyplot as plt\n",
    "%matplotlib inline"
   ]
  },
  {
   "cell_type": "code",
   "execution_count": 3,
   "metadata": {},
   "outputs": [],
   "source": [
    "# Load Data\n",
    "dtypes = {'column_name_6':'int64', 'column_name_7':'float64', 'column_name_8':'float64'}\n",
    "\n",
    "aviation = pd.read_csv('Data/AviationData.csv', encoding='ISO-8859-1', dtype=dtypes, parse_dates=['Event.Date'], low_memory=False)\n",
    "pd.options.mode.chained_assignment = None\n"
   ]
  },
  {
   "cell_type": "code",
   "execution_count": 4,
   "metadata": {},
   "outputs": [
    {
     "name": "stdout",
     "output_type": "stream",
     "text": [
      "<class 'pandas.core.frame.DataFrame'>\n",
      "RangeIndex: 88889 entries, 0 to 88888\n",
      "Data columns (total 31 columns):\n",
      " #   Column                  Non-Null Count  Dtype         \n",
      "---  ------                  --------------  -----         \n",
      " 0   Event.Id                88889 non-null  object        \n",
      " 1   Investigation.Type      88889 non-null  object        \n",
      " 2   Accident.Number         88889 non-null  object        \n",
      " 3   Event.Date              88889 non-null  datetime64[ns]\n",
      " 4   Location                88837 non-null  object        \n",
      " 5   Country                 88663 non-null  object        \n",
      " 6   Latitude                34382 non-null  object        \n",
      " 7   Longitude               34373 non-null  object        \n",
      " 8   Airport.Code            50249 non-null  object        \n",
      " 9   Airport.Name            52790 non-null  object        \n",
      " 10  Injury.Severity         87889 non-null  object        \n",
      " 11  Aircraft.damage         85695 non-null  object        \n",
      " 12  Aircraft.Category       32287 non-null  object        \n",
      " 13  Registration.Number     87572 non-null  object        \n",
      " 14  Make                    88826 non-null  object        \n",
      " 15  Model                   88797 non-null  object        \n",
      " 16  Amateur.Built           88787 non-null  object        \n",
      " 17  Number.of.Engines       82805 non-null  float64       \n",
      " 18  Engine.Type             81812 non-null  object        \n",
      " 19  FAR.Description         32023 non-null  object        \n",
      " 20  Schedule                12582 non-null  object        \n",
      " 21  Purpose.of.flight       82697 non-null  object        \n",
      " 22  Air.carrier             16648 non-null  object        \n",
      " 23  Total.Fatal.Injuries    77488 non-null  float64       \n",
      " 24  Total.Serious.Injuries  76379 non-null  float64       \n",
      " 25  Total.Minor.Injuries    76956 non-null  float64       \n",
      " 26  Total.Uninjured         82977 non-null  float64       \n",
      " 27  Weather.Condition       84397 non-null  object        \n",
      " 28  Broad.phase.of.flight   61724 non-null  object        \n",
      " 29  Report.Status           82508 non-null  object        \n",
      " 30  Publication.Date        75118 non-null  object        \n",
      "dtypes: datetime64[ns](1), float64(5), object(25)\n",
      "memory usage: 21.0+ MB\n"
     ]
    }
   ],
   "source": [
    "# View DataFrame\n",
    "\n",
    "aviation.info()"
   ]
  },
  {
   "cell_type": "markdown",
   "metadata": {},
   "source": [
    "## Filtering the Data"
   ]
  },
  {
   "cell_type": "code",
   "execution_count": 5,
   "metadata": {},
   "outputs": [],
   "source": [
    "# Making a copy of existing Dataframe to work on\n",
    "\n",
    "aviation_cleaned = aviation.copy()"
   ]
  },
  {
   "cell_type": "code",
   "execution_count": 6,
   "metadata": {},
   "outputs": [],
   "source": [
    "# Stack Overflow code to pull only the Year out of Event.Date\n",
    "\n",
    "aviation_cleaned[\"Year\"] = pd.DatetimeIndex(aviation_cleaned[\"Event.Date\"]).year"
   ]
  },
  {
   "cell_type": "code",
   "execution_count": 7,
   "metadata": {},
   "outputs": [
    {
     "name": "stdout",
     "output_type": "stream",
     "text": [
      "<class 'pandas.core.frame.DataFrame'>\n",
      "Int64Index: 31865 entries, 51958 to 88888\n",
      "Data columns (total 32 columns):\n",
      " #   Column                  Non-Null Count  Dtype         \n",
      "---  ------                  --------------  -----         \n",
      " 0   Event.Id                31865 non-null  object        \n",
      " 1   Investigation.Type      31865 non-null  object        \n",
      " 2   Accident.Number         31865 non-null  object        \n",
      " 3   Event.Date              31865 non-null  datetime64[ns]\n",
      " 4   Location                31858 non-null  object        \n",
      " 5   Country                 31865 non-null  object        \n",
      " 6   Latitude                31266 non-null  object        \n",
      " 7   Longitude               31256 non-null  object        \n",
      " 8   Airport.Code            21667 non-null  object        \n",
      " 9   Airport.Name            21849 non-null  object        \n",
      " 10  Injury.Severity         31757 non-null  object        \n",
      " 11  Aircraft.damage         31001 non-null  object        \n",
      " 12  Aircraft.Category       24374 non-null  object        \n",
      " 13  Registration.Number     31815 non-null  object        \n",
      " 14  Make                    31852 non-null  object        \n",
      " 15  Model                   31850 non-null  object        \n",
      " 16  Amateur.Built           31847 non-null  object        \n",
      " 17  Number.of.Engines       30813 non-null  float64       \n",
      " 18  Engine.Type             28905 non-null  object        \n",
      " 19  FAR.Description         24445 non-null  object        \n",
      " 20  Schedule                2538 non-null   object        \n",
      " 21  Purpose.of.flight       29677 non-null  object        \n",
      " 22  Air.carrier             11890 non-null  object        \n",
      " 23  Total.Fatal.Injuries    22999 non-null  float64       \n",
      " 24  Total.Serious.Injuries  22438 non-null  float64       \n",
      " 25  Total.Minor.Injuries    23029 non-null  float64       \n",
      " 26  Total.Uninjured         27773 non-null  float64       \n",
      " 27  Weather.Condition       31243 non-null  object        \n",
      " 28  Broad.phase.of.flight   10964 non-null  object        \n",
      " 29  Report.Status           29254 non-null  object        \n",
      " 30  Publication.Date        31513 non-null  object        \n",
      " 31  Year                    31865 non-null  int64         \n",
      "dtypes: datetime64[ns](1), float64(5), int64(1), object(25)\n",
      "memory usage: 8.0+ MB\n"
     ]
    }
   ],
   "source": [
    "# Removing all years prior to 2002 when the Aviation and Transportation Security Act went into effect\n",
    "\n",
    "aviation_cleaned = aviation_cleaned[(aviation_cleaned[\"Year\"] >= 2002) & (aviation_cleaned[\"Country\"] == \"United States\")]\n",
    "aviation_cleaned.info()"
   ]
  },
  {
   "cell_type": "markdown",
   "metadata": {},
   "source": [
    "## Data Cleaning\n",
    "\n",
    "### Deleting Missing Values"
   ]
  },
  {
   "cell_type": "code",
   "execution_count": 8,
   "metadata": {},
   "outputs": [],
   "source": [
    "# Filling Nulls in the Make column so we can manipulate it more easily\n",
    "\n",
    "aviation_cleaned[\"Make\"].fillna(\"other\", inplace = True)"
   ]
  },
  {
   "cell_type": "code",
   "execution_count": 9,
   "metadata": {},
   "outputs": [
    {
     "name": "stdout",
     "output_type": "stream",
     "text": [
      "<class 'pandas.core.frame.DataFrame'>\n",
      "Int64Index: 31865 entries, 51958 to 88888\n",
      "Data columns (total 32 columns):\n",
      " #   Column                  Non-Null Count  Dtype         \n",
      "---  ------                  --------------  -----         \n",
      " 0   Event.Id                31865 non-null  object        \n",
      " 1   Investigation.Type      31865 non-null  object        \n",
      " 2   Accident.Number         31865 non-null  object        \n",
      " 3   Event.Date              31865 non-null  datetime64[ns]\n",
      " 4   Location                31858 non-null  object        \n",
      " 5   Country                 31865 non-null  object        \n",
      " 6   Latitude                31266 non-null  object        \n",
      " 7   Longitude               31256 non-null  object        \n",
      " 8   Airport.Code            21667 non-null  object        \n",
      " 9   Airport.Name            21849 non-null  object        \n",
      " 10  Injury.Severity         31757 non-null  object        \n",
      " 11  Aircraft.damage         31001 non-null  object        \n",
      " 12  Aircraft.Category       24374 non-null  object        \n",
      " 13  Registration.Number     31815 non-null  object        \n",
      " 14  Make                    31865 non-null  object        \n",
      " 15  Model                   31850 non-null  object        \n",
      " 16  Amateur.Built           31847 non-null  object        \n",
      " 17  Number.of.Engines       30813 non-null  float64       \n",
      " 18  Engine.Type             28905 non-null  object        \n",
      " 19  FAR.Description         24445 non-null  object        \n",
      " 20  Schedule                2538 non-null   object        \n",
      " 21  Purpose.of.flight       29677 non-null  object        \n",
      " 22  Air.carrier             11890 non-null  object        \n",
      " 23  Total.Fatal.Injuries    22999 non-null  float64       \n",
      " 24  Total.Serious.Injuries  22438 non-null  float64       \n",
      " 25  Total.Minor.Injuries    23029 non-null  float64       \n",
      " 26  Total.Uninjured         27773 non-null  float64       \n",
      " 27  Weather.Condition       31243 non-null  object        \n",
      " 28  Broad.phase.of.flight   10964 non-null  object        \n",
      " 29  Report.Status           29254 non-null  object        \n",
      " 30  Publication.Date        31513 non-null  object        \n",
      " 31  Year                    31865 non-null  int64         \n",
      "dtypes: datetime64[ns](1), float64(5), int64(1), object(25)\n",
      "memory usage: 8.0+ MB\n"
     ]
    }
   ],
   "source": [
    "# Check that the Nulls are filled\n",
    "\n",
    "aviation_cleaned.info()"
   ]
  },
  {
   "cell_type": "markdown",
   "metadata": {},
   "source": [
    "### Cleaning the 'Make' Column\n",
    "\n",
    "We cleaned the 'Make' Column so that the top 4 manufacturers are easy to filter"
   ]
  },
  {
   "cell_type": "code",
   "execution_count": 10,
   "metadata": {},
   "outputs": [],
   "source": [
    "# Changing all the Make column into lowercase strings for ease of manipulation and analysis\n",
    "\n",
    "aviation_cleaned[\"Make\"] = aviation_cleaned[\"Make\"].str.lower()\n",
    "\n",
    "# Eliminating periods from the column observations\n",
    "\n",
    "aviation_cleaned['Make'] = aviation_cleaned['Make'].str.replace('.', '', regex=False)\n",
    "\n",
    "# Cleaning Data\n",
    "\n",
    "aviation_cleaned['Make'] = aviation_cleaned['Make'].str.replace('beech', 'beechcraft', regex=False)\n",
    "aviation_cleaned['Make'] = aviation_cleaned['Make'].str.replace('hawker beechcraft corp', 'beechcraft', regex=False)\n",
    "aviation_cleaned['Make'] = aviation_cleaned['Make'].str.replace('hawker beechcraft corporation', 'beechcraft', regex=False)\n",
    "aviation_cleaned['Make'] = aviation_cleaned['Make'].str.replace('hawker-beechcraft corporation', 'beechcraft', regex=False)\n",
    "aviation_cleaned['Make'] = aviation_cleaned['Make'].str.replace('hawker beechcraft', 'beechcraft', regex=False)\n",
    "aviation_cleaned['Make'] = aviation_cleaned['Make'].str.replace('beech aircraft corporation', 'beechcraft', regex=False)\n",
    "aviation_cleaned['Make'] = aviation_cleaned['Make'].str.replace('beech corporation', 'beechcraft', regex=False)\n",
    "aviation_cleaned['Make'] = aviation_cleaned['Make'].str.replace('beech aircraft', 'beechcraft', regex=False)\n",
    "aviation_cleaned['Make'] = aviation_cleaned['Make'].str.replace('beech aircraft co', 'beechcraft', regex=False)\n",
    "aviation_cleaned['Make'] = aviation_cleaned['Make'].str.replace('hawker beech', 'beechcraft', regex=False)\n",
    "aviation_cleaned['Make'] = aviation_cleaned['Make'].str.replace('hawker-beechcraft', 'beechcraft', regex=False)\n",
    "aviation_cleaned['Make'] = aviation_cleaned['Make'].str.replace('beech aircraft corp', 'beechcraft', regex=False)\n",
    "\n",
    "aviation_cleaned['Make'] = aviation_cleaned['Make'].str.replace('boeing stearman', 'boeing', regex=False)\n",
    "aviation_cleaned['Make'] = aviation_cleaned['Make'].str.replace('boeing-stearman', 'boeing', regex=False)\n",
    "aviation_cleaned['Make'] = aviation_cleaned['Make'].str.replace('boeing (stearman)', 'boeing', regex=False)\n",
    "aviation_cleaned['Make'] = aviation_cleaned['Make'].str.replace('boeing company', 'boeing', regex=False)\n",
    "aviation_cleaned['Make'] = aviation_cleaned['Make'].str.replace('boeing company, long beach div', 'boeing', regex=False)\n",
    "aviation_cleaned['Make'] = aviation_cleaned['Make'].str.replace('the boeing company', 'boeing', regex=False)\n",
    "aviation_cleaned['Make'] = aviation_cleaned['Make'].str.replace('boeing-vertol', 'boeing', regex=False)\n",
    "aviation_cleaned['Make'] = aviation_cleaned['Make'].str.replace('boeing 777-306er', 'boeing', regex=False)\n",
    "aviation_cleaned['Make'] = aviation_cleaned['Make'].str.replace('boeing commercial airplane gro', 'boeing', regex=False)\n",
    "\n",
    "aviation_cleaned['Make'] = aviation_cleaned['Make'].str.replace('airbus industrie', 'airbus', regex=False)\n",
    "aviation_cleaned['Make'] = aviation_cleaned['Make'].str.replace('airbus industries', 'airbus', regex=False)\n",
    "\n",
    "aviation_cleaned['Make'] = aviation_cleaned['Make'].str.replace('bombardier', 'bombardier', regex=False)\n",
    "aviation_cleaned['Make'] = aviation_cleaned['Make'].str.replace('bombardier inc', 'bombardier', regex=False)\n",
    "aviation_cleaned['Make'] = aviation_cleaned['Make'].str.replace('bombardier aerospace, inc', 'bombardier', regex=False)\n",
    "aviation_cleaned['Make'] = aviation_cleaned['Make'].str.replace('learjet', 'bombardier', regex=False)\n",
    "aviation_cleaned['Make'] = aviation_cleaned['Make'].str.replace('learjet inc', 'bombardier', regex=False)\n",
    "aviation_cleaned['Make'] = aviation_cleaned['Make'].str.replace('bombardier, inc', 'bombardier', regex=False)\n",
    "aviation_cleaned['Make'] = aviation_cleaned['Make'].str.replace('bombardier learjet corp', 'bombardier', regex=False)\n",
    "aviation_cleaned['Make'] = aviation_cleaned['Make'].str.replace('gates learjet', 'bombardier', regex=False)\n",
    "aviation_cleaned['Make'] = aviation_cleaned['Make'].str.replace('gates learjet corporation', 'bombardier', regex=False)\n"
   ]
  },
  {
   "cell_type": "code",
   "execution_count": 11,
   "metadata": {},
   "outputs": [
    {
     "data": {
      "text/plain": [
       "cessna                8391\n",
       "piper                 4753\n",
       "beechcraft            1771\n",
       "bell                   794\n",
       "boeing                 581\n",
       "                      ... \n",
       "pfeifler                 1\n",
       "donegan benton           1\n",
       "murrin frederick l       1\n",
       "michael burton           1\n",
       "czech                    1\n",
       "Name: Make, Length: 4648, dtype: int64"
      ]
     },
     "execution_count": 11,
     "metadata": {},
     "output_type": "execute_result"
    }
   ],
   "source": [
    "aviation_cleaned['Make'].value_counts()"
   ]
  },
  {
   "cell_type": "code",
   "execution_count": 12,
   "metadata": {},
   "outputs": [],
   "source": [
    "# Creating a new Dataframe contianing only the top four\n",
    "\n",
    "top_four = aviation_cleaned.loc[(aviation_cleaned[\"Make\"].isin([\"boeing\", \"airbus\", \"bombardier\", \"beechcraft\"]))]"
   ]
  },
  {
   "cell_type": "code",
   "execution_count": 13,
   "metadata": {},
   "outputs": [],
   "source": [
    "# Filling null values with 0 in Total.Fatal.Injuries column \n",
    "\n",
    "top_four[\"Total.Fatal.Injuries\"].fillna(0, inplace = True)"
   ]
  },
  {
   "cell_type": "code",
   "execution_count": 14,
   "metadata": {},
   "outputs": [
    {
     "data": {
      "text/plain": [
       "beechcraft    1771\n",
       "boeing         581\n",
       "airbus         173\n",
       "bombardier     163\n",
       "Name: Make, dtype: int64"
      ]
     },
     "execution_count": 14,
     "metadata": {},
     "output_type": "execute_result"
    }
   ],
   "source": [
    "incident_counts = top_four[\"Make\"].value_counts()\n",
    "incident_counts"
   ]
  },
  {
   "cell_type": "markdown",
   "metadata": {},
   "source": [
    "## Visualizing the Data"
   ]
  },
  {
   "cell_type": "code",
   "execution_count": 16,
   "metadata": {},
   "outputs": [
    {
     "data": {
      "image/png": "[encoded data removed]",
      "text/plain": [
       "<Figure size 576x432 with 1 Axes>"
      ]
     },
     "metadata": {
      "needs_background": "light"
     },
     "output_type": "display_data"
    }
   ],
   "source": [
    "# Visualizing the Top 4 Manufacturers vs Number of Accident/Incidents\n",
    "\n",
    "top_manufacturers = incident_counts.index\n",
    "number_of_accidents = incident_counts.values\n",
    "\n",
    "fig, ax = plt.subplots(figsize=(8, 6))\n",
    "\n",
    "ax.bar(top_manufacturers, number_of_accidents)\n",
    "\n",
    "ax.set_title('Top 4 Manufacturers VS. Number of Accidents')\n",
    "ax.set_xlabel('Manufacturers')\n",
    "ax.set_ylabel('Number of Accidents');"
   ]
  },
  {
   "cell_type": "code",
   "execution_count": null,
   "metadata": {},
   "outputs": [],
   "source": []
  }
 ],
 "metadata": {
  "kernelspec": {
   "display_name": "learn-env",
   "language": "python",
   "name": "python3"
  },
  "language_info": {
   "codemirror_mode": {
    "name": "ipython",
    "version": 3
   },
   "file_extension": ".py",
   "mimetype": "text/x-python",
   "name": "python",
   "nbconvert_exporter": "python",
   "pygments_lexer": "ipython3",
   "version": "3.8.5"
  }
 },
 "nbformat": 4,
 "nbformat_minor": 2
}
